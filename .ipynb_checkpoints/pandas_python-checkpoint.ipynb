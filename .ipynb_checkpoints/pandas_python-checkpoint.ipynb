{
 "cells": [
  {
   "cell_type": "code",
   "execution_count": 33,
   "metadata": {},
   "outputs": [],
   "source": [
    "import pandas as pd"
   ]
  },
  {
   "cell_type": "code",
   "execution_count": 1,
   "metadata": {},
   "outputs": [],
   "source": [
    "import timeit "
   ]
  },
  {
   "cell_type": "code",
   "execution_count": 4,
   "metadata": {},
   "outputs": [
    {
     "name": "stdout",
     "output_type": "stream",
     "text": [
      "0.00015785201685503125 sec\n"
     ]
    }
   ],
   "source": [
    "start = timeit.default_timer()\n",
    "my_list=[]\n",
    "for i in range(1,11):\n",
    "    my_list.append(i)\n",
    "end = timeit.default_timer() - start\n",
    "print(end, \"sec\")"
   ]
  },
  {
   "cell_type": "code",
   "execution_count": 5,
   "metadata": {},
   "outputs": [
    {
     "name": "stdout",
     "output_type": "stream",
     "text": [
      "0.00012655899627134204 sec\n"
     ]
    }
   ],
   "source": [
    "start = timeit.default_timer()\n",
    "my_list=[i for i in range(1,11)]\n",
    "\n",
    "end = timeit.default_timer() - start\n",
    "print(end, \"sec\")"
   ]
  },
  {
   "cell_type": "code",
   "execution_count": 6,
   "metadata": {},
   "outputs": [],
   "source": [
    "##### Standard version\n",
    "l1=[1, 2, 3]\n",
    "l2=[4, 5, 6]\n",
    "l3=[7, 8, 9]"
   ]
  },
  {
   "cell_type": "code",
   "execution_count": 8,
   "metadata": {},
   "outputs": [
    {
     "data": {
      "text/plain": [
       "[1, 2, 3, 4, 5, 6, 7, 8, 9]"
      ]
     },
     "execution_count": 8,
     "metadata": {},
     "output_type": "execute_result"
    }
   ],
   "source": [
    "import itertools\n",
    "result=list(itertools.chain(l1, l2, l3))\n",
    "result"
   ]
  },
  {
   "cell_type": "code",
   "execution_count": 10,
   "metadata": {},
   "outputs": [
    {
     "data": {
      "text/plain": [
       "[1, 2, 3, 4, 5, 6, 7, 8, 9]"
      ]
     },
     "execution_count": 10,
     "metadata": {},
     "output_type": "execute_result"
    }
   ],
   "source": [
    "data = [l1,l2,l3]\n",
    "result = list(itertools.chain(*data))\n",
    "result"
   ]
  },
  {
   "cell_type": "code",
   "execution_count": 12,
   "metadata": {},
   "outputs": [
    {
     "data": {
      "text/plain": [
       "[1, 2, 3, 4, 5, 6, 7, 8, 9]"
      ]
     },
     "execution_count": 12,
     "metadata": {},
     "output_type": "execute_result"
    }
   ],
   "source": [
    "data=[l1,l2,l3]\n",
    "result = sum(data, [])\n",
    "result"
   ]
  },
  {
   "cell_type": "code",
   "execution_count": 13,
   "metadata": {},
   "outputs": [],
   "source": [
    "#creata a pickle"
   ]
  },
  {
   "cell_type": "code",
   "execution_count": 14,
   "metadata": {},
   "outputs": [],
   "source": [
    "from sklearn.datasets import load_iris"
   ]
  },
  {
   "cell_type": "code",
   "execution_count": 15,
   "metadata": {},
   "outputs": [],
   "source": [
    "data = load_iris()"
   ]
  },
  {
   "cell_type": "code",
   "execution_count": 20,
   "metadata": {},
   "outputs": [],
   "source": [
    "X=data['data']\n",
    "y = data['target']"
   ]
  },
  {
   "cell_type": "code",
   "execution_count": 26,
   "metadata": {},
   "outputs": [],
   "source": [
    "from sklearn.model_selection import train_test_split\n",
    "train_X, test_X, train_y, test_y = train_test_split(X, y, test_size=0.3, random_state=100)\n",
    "from sklearn.tree import DecisionTreeClassifier\n",
    "clf = DecisionTreeClassifier()\n",
    "clf = clf.fit(train_X, train_y)"
   ]
  },
  {
   "cell_type": "code",
   "execution_count": 27,
   "metadata": {},
   "outputs": [],
   "source": [
    "import pickle "
   ]
  },
  {
   "cell_type": "code",
   "execution_count": 31,
   "metadata": {},
   "outputs": [
    {
     "name": "stdout",
     "output_type": "stream",
     "text": [
      "0.9555555555555556\n"
     ]
    }
   ],
   "source": [
    "model = clf\n",
    "\n",
    "filename=\"my_pickle.pkl\"\n",
    "# save the model \n",
    "pickle.dump(model, open(filename, 'wb'))\n",
    "# load the model from disk\n",
    "loaded_model = pickle.load(open(filename, 'rb'))\n",
    "result = loaded_model.score(test_X, test_y)\n",
    "print(result)"
   ]
  },
  {
   "cell_type": "code",
   "execution_count": 34,
   "metadata": {},
   "outputs": [],
   "source": [
    "data = pd.read_html('https://en.wikipedia.org/wiki/List_of_S%26P_500_companies')"
   ]
  },
  {
   "cell_type": "code",
   "execution_count": 35,
   "metadata": {},
   "outputs": [
    {
     "data": {
      "text/plain": [
       "[    Symbol                Security SEC filings             GICS Sector  \\\n",
       " 0      MMM              3M Company     reports             Industrials   \n",
       " 1      ABT     Abbott Laboratories     reports             Health Care   \n",
       " 2     ABBV             AbbVie Inc.     reports             Health Care   \n",
       " 3     ABMD             ABIOMED Inc     reports             Health Care   \n",
       " 4      ACN           Accenture plc     reports  Information Technology   \n",
       " ..     ...                     ...         ...                     ...   \n",
       " 500    XYL              Xylem Inc.     reports             Industrials   \n",
       " 501    YUM         Yum! Brands Inc     reports  Consumer Discretionary   \n",
       " 502    ZBH  Zimmer Biomet Holdings     reports             Health Care   \n",
       " 503   ZION           Zions Bancorp     reports              Financials   \n",
       " 504    ZTS                  Zoetis     reports             Health Care   \n",
       " \n",
       "                   GICS Sub Industry     Headquarters Location  \\\n",
       " 0          Industrial Conglomerates       St. Paul, Minnesota   \n",
       " 1             Health Care Equipment   North Chicago, Illinois   \n",
       " 2                   Pharmaceuticals   North Chicago, Illinois   \n",
       " 3             Health Care Equipment    Danvers, Massachusetts   \n",
       " 4    IT Consulting & Other Services           Dublin, Ireland   \n",
       " ..                              ...                       ...   \n",
       " 500            Industrial Machinery    White Plains, New York   \n",
       " 501                     Restaurants      Louisville, Kentucky   \n",
       " 502           Health Care Equipment           Warsaw, Indiana   \n",
       " 503                  Regional Banks      Salt Lake City, Utah   \n",
       " 504                 Pharmaceuticals  Florham Park, New Jersey   \n",
       " \n",
       "     Date first added      CIK      Founded  \n",
       " 0                NaN    66740         1902  \n",
       " 1         1964-03-31     1800         1888  \n",
       " 2         2012-12-31  1551152  2013 (1888)  \n",
       " 3         2018-05-31   815094         1981  \n",
       " 4         2011-07-06  1467373         1989  \n",
       " ..               ...      ...          ...  \n",
       " 500       2011-11-01  1524472          NaN  \n",
       " 501       1997-10-06  1041061          NaN  \n",
       " 502       2001-08-07  1136869          NaN  \n",
       " 503       2001-06-22   109380          NaN  \n",
       " 504       2013-06-21  1555280          NaN  \n",
       " \n",
       " [505 rows x 9 columns],\n",
       "                    Date  Added                       Removed  \\\n",
       "                    Date Ticker              Security  Ticker   \n",
       " 0       October 3, 2019    LVS  Las Vegas Sands Corp    NKTR   \n",
       " 1    September 26, 2019    NVR               NVR Inc     JEF   \n",
       " 2    September 23, 2019    CDW                   CDW     TSS   \n",
       " 3        August 9, 2019   LDOS       Leidos Holdings     APC   \n",
       " 4        August 9, 2019    IEX      IDEX Corporation      FL   \n",
       " ..                  ...    ...                   ...     ...   \n",
       " 214  September 25, 2003   ESRX       Express Scripts    QTRN   \n",
       " 215    December 5, 2000   INTU                Intuit      BS   \n",
       " 216    December 5, 2000    SBL   Symbol Technologies      OI   \n",
       " 217    December 5, 2000    AYE      Allegheny Energy     GRA   \n",
       " 218    December 5, 2000    ABK       Ambac Financial     CCK   \n",
       " \n",
       "                                     \\\n",
       "                           Security   \n",
       " 0              Nektar Therapeutics   \n",
       " 1    Jefferies Financial Group Inc   \n",
       " 2                             TSYS   \n",
       " 3               Anadarko Petroleum   \n",
       " 4                      Foot Locker   \n",
       " ..                             ...   \n",
       " 214        Quintiles Transnational   \n",
       " 215                Bethlehem Steel   \n",
       " 216                 Owens-Illinois   \n",
       " 217                     W.R. Grace   \n",
       " 218                 Crown Holdings   \n",
       " \n",
       "                                                 Reason  \n",
       "                                                 Reason  \n",
       " 0                                Market Cap changes[7]  \n",
       " 1                              JEF spinning off SPB[8]  \n",
       " 2    S&P 500 constituent Global Payments Inc. (NYSE...  \n",
       " 3    S&P 500 & 100 constituent Occidental Petroleum...  \n",
       " 4         Foot Locker moved to the S&P MidCap 400.[10]  \n",
       " ..                                                 ...  \n",
       " 214                                 Taken private[183]  \n",
       " 215                           Market Cap changes.[184]  \n",
       " 216                           Market Cap changes.[184]  \n",
       " 217                           Market Cap changes.[184]  \n",
       " 218                           Market Cap changes.[184]  \n",
       " \n",
       " [219 rows x 6 columns]]"
      ]
     },
     "execution_count": 35,
     "metadata": {},
     "output_type": "execute_result"
    }
   ],
   "source": [
    "data"
   ]
  },
  {
   "cell_type": "code",
   "execution_count": 40,
   "metadata": {},
   "outputs": [
    {
     "name": "stderr",
     "output_type": "stream",
     "text": [
      "/Users/macbookssd/miniconda3/lib/python3.6/site-packages/pandas/core/generic.py:2530: PerformanceWarning: \n",
      "your performance may suffer as PyTables will pickle object types that it cannot\n",
      "map directly to c-types [inferred_type->mixed,key->block0_values] [items->[0]]\n",
      "\n",
      "  pytables.to_hdf(path_or_buf, key, self, **kwargs)\n"
     ]
    }
   ],
   "source": [
    "#save to hdf\n",
    "data = pd.DataFrame(data)\n",
    "data.to_hdf('df.h5', key='df', mode='w')\n",
    "\n",
    "\n"
   ]
  },
  {
   "cell_type": "code",
   "execution_count": 43,
   "metadata": {},
   "outputs": [],
   "source": [
    "#read hdf\n",
    "df = pd.read_hdf('df.h5', 'df')"
   ]
  },
  {
   "cell_type": "code",
   "execution_count": 44,
   "metadata": {},
   "outputs": [
    {
     "data": {
      "text/html": [
       "<div>\n",
       "<style scoped>\n",
       "    .dataframe tbody tr th:only-of-type {\n",
       "        vertical-align: middle;\n",
       "    }\n",
       "\n",
       "    .dataframe tbody tr th {\n",
       "        vertical-align: top;\n",
       "    }\n",
       "\n",
       "    .dataframe thead th {\n",
       "        text-align: right;\n",
       "    }\n",
       "</style>\n",
       "<table border=\"1\" class=\"dataframe\">\n",
       "  <thead>\n",
       "    <tr style=\"text-align: right;\">\n",
       "      <th></th>\n",
       "      <th>0</th>\n",
       "    </tr>\n",
       "  </thead>\n",
       "  <tbody>\n",
       "    <tr>\n",
       "      <td>0</td>\n",
       "      <td>Symbol                Security SEC filings...</td>\n",
       "    </tr>\n",
       "    <tr>\n",
       "      <td>1</td>\n",
       "      <td>Date  Added                ...</td>\n",
       "    </tr>\n",
       "  </tbody>\n",
       "</table>\n",
       "</div>"
      ],
      "text/plain": [
       "                                                   0\n",
       "0      Symbol                Security SEC filings...\n",
       "1                     Date  Added                ..."
      ]
     },
     "execution_count": 44,
     "metadata": {},
     "output_type": "execute_result"
    }
   ],
   "source": [
    "df"
   ]
  }
 ],
 "metadata": {
  "kernelspec": {
   "display_name": "Python 3",
   "language": "python",
   "name": "python3"
  },
  "language_info": {
   "codemirror_mode": {
    "name": "ipython",
    "version": 3
   },
   "file_extension": ".py",
   "mimetype": "text/x-python",
   "name": "python",
   "nbconvert_exporter": "python",
   "pygments_lexer": "ipython3",
   "version": "3.6.7"
  }
 },
 "nbformat": 4,
 "nbformat_minor": 2
}
